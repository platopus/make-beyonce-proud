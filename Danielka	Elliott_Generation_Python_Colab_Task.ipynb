{
  "nbformat": 4,
  "nbformat_minor": 0,
  "metadata": {
    "colab": {
      "name": "Danielka\tElliott - Generation Python Colab Task",
      "provenance": [],
      "collapsed_sections": [],
      "include_colab_link": true
    },
    "kernelspec": {
      "name": "python3",
      "display_name": "Python 3"
    }
  },
  "cells": [
    {
      "cell_type": "markdown",
      "metadata": {
        "id": "view-in-github",
        "colab_type": "text"
      },
      "source": [
        "<a href=\"https://colab.research.google.com/github/platopus/make-beyonce-proud/blob/master/Danielka%09Elliott_Generation_Python_Colab_Task.ipynb\" target=\"_parent\"><img src=\"https://colab.research.google.com/assets/colab-badge.svg\" alt=\"Open In Colab\"/></a>"
      ]
    },
    {
      "cell_type": "markdown",
      "metadata": {
        "id": "hMMqMGR8OuiH"
      },
      "source": [
        "![Generation Logo](https://ikeafoundation.org/wp-content/uploads/2019/09/Generation-logo.png)\n",
        "\n",
        "# Python Screening Task 3\n",
        "\n",
        "## About these tasks\n",
        "\n",
        "These tasks are designed to challenge your python skills that you should have picked up during your Udacity course.\n",
        "\n",
        "Feel free to use google to research any topics below, however, do not copy and paste any code directly.\n",
        "\n",
        "-------\n",
        "\n",
        "# Problem 1\n",
        "\n",
        "In this problem, we will complete a function that can determine if a string is a palindrome\n",
        "\n",
        "1. Complete the function `is_palindrome`.\n",
        "1. The function `is_palindrome` should take one argument named `text`.\n",
        "1. The function `is_palindrome` should return true if the value of `text` is a palindrome, and should otherwise return false.\n",
        "\n",
        "Note:  A a **palindrome** is a word, number, phrase, or other sequence of characters which reads the same backward as forward.\n",
        "\n",
        "\n",
        "\n"
      ]
    },
    {
      "cell_type": "code",
      "metadata": {
        "id": "CWwB0hHJOsTY",
        "colab": {
          "base_uri": "https://localhost:8080/"
        },
        "outputId": "b3e43dd0-97fe-4d77-c0fa-625216489089"
      },
      "source": [
        "def is_palindrome(text):\n",
        "  is_palindrome = True\n",
        "\n",
        "  for i in range(len(text)//2):\n",
        "    if text[i] != text[-(i+1)]:\n",
        "      is_palindrome = False\n",
        "      break\n",
        "\n",
        "  return is_palindrome\n",
        "    \n",
        "\n",
        "# print(is_palindrome(\"black cab\"))\n",
        "\n",
        "# Do not modify code below the code below this line\n",
        "assert is_palindrome(\"redivider\") == True\n",
        "assert is_palindrome(\"drive\") == False\n",
        "assert is_palindrome(\"kayak\") == True\n",
        "assert is_palindrome(\"11211\") == True\n",
        "assert is_palindrome(\"1115544\") == False\n"
      ],
      "execution_count": 42,
      "outputs": [
        {
          "output_type": "stream",
          "name": "stdout",
          "text": [
            "True\n"
          ]
        }
      ]
    },
    {
      "cell_type": "markdown",
      "metadata": {
        "id": "7ofRmvj0Q5ZE"
      },
      "source": [
        "# Problem 2\n",
        "\n",
        "In this problem, we will try to complete a function that will be able to tell us how many times a word is found in a collection of sentences.\n",
        "\n",
        "1. Complete the function `find_occurrences`.\n",
        "1. The function should take two arguments `sentence_list` and `search_term`.\n",
        "1. `sentence_list` should be an array of strings\n",
        "1. `search_term` should be a string.\n",
        "1. The function should return an integer greater than or equal to zero.\n",
        "1. The number returned should be the number of occurrences of the `search_term` found within `sentence_list`\n",
        "\n",
        "You can look at the **assertions** at the bottom of the problem to see how your program is expected to perform. For example: \n",
        "\n",
        "```python\n",
        "assert find_occurrences([\"welcome to our Python program\", \"Python is my favorite language!\", \"I am afraid of Pythons\", \"I love Python\"], \"Python\") == 4\n",
        "```\n",
        "\n",
        "Using this we can see, given the list of strings and searching for `\"Python\"` we expect the function to return `4`\n"
      ]
    },
    {
      "cell_type": "code",
      "metadata": {
        "id": "sjwKUU6TyBqi"
      },
      "source": [
        "def find_occurrences(sentence_list, search_term):\n",
        "  occurances = 0\n",
        "  for sentance in sentence_list:\n",
        "    occurances += sentance.count(search_term)\n",
        "  return occurances\n",
        "\n",
        "# Do not modify code below the code below this line\n",
        "assert find_occurrences([\"welcome to our Python program\", \"Python is my favorite language!\", \"I am afraid of Pythons\", \"I love Python\"], \"Python\") == 4\n",
        "assert find_occurrences([\"this is the best day\", \"Python is the best language for learning programming\", \"I am learning\", \"I love learning\"], \"learning\") == 3\n",
        "assert find_occurrences([\"welcome\", \"language\", \"I am\", \"I love\"], \"Python\") == 0\n",
        "assert find_occurrences([\"What are you doing?\", \"you like programming?\", \"We are students\", \"We are learners\"], \"are\") == 3\n",
        "assert find_occurrences([\"welcome welcome\", \"wikipedia\", \"wonderland\", \"we\"], \"w\") == 5\n",
        "    "
      ],
      "execution_count": 46,
      "outputs": []
    },
    {
      "cell_type": "markdown",
      "metadata": {
        "id": "J8LI99OzUo5_"
      },
      "source": [
        "# Problem 3\n",
        "\n",
        "In this problem, we will replace a function with an equivalent lambda function\n",
        "\n",
        "1. The function for `module_2` should be removed\n",
        "1. There should be a lambda function that does the same task as `module_2` (input modulo 2)\n",
        "1. modify the assertion so that it evaluates your lambda"
      ]
    },
    {
      "cell_type": "code",
      "metadata": {
        "id": "h9rwLzlRVEDu",
        "colab": {
          "base_uri": "https://localhost:8080/"
        },
        "outputId": "1ee9c6f2-09fb-4152-bec7-8183ac4eecc7"
      },
      "source": [
        "def is_a_lambda(v):\n",
        "  LAMBDA = lambda:0\n",
        "  return isinstance(v, type(LAMBDA)) and v.__name__ == LAMBDA.__name__\n",
        "# Do not modify code above this line\n",
        "\n",
        "x = lambda a: a % 2\n",
        "\n",
        "# You may modify this assertion\n",
        "assert is_a_lambda(x) == True\n"
      ],
      "execution_count": 56,
      "outputs": [
        {
          "output_type": "stream",
          "name": "stdout",
          "text": [
            "1\n"
          ]
        }
      ]
    },
    {
      "cell_type": "markdown",
      "metadata": {
        "id": "hQUoCwaZXO7K"
      },
      "source": [
        "# Problem 4\n",
        "\n",
        "In this problem identify the error in the following code and fix it.\n",
        "\n",
        "1. There should be a function called `increase_task_count()`"
      ]
    },
    {
      "cell_type": "code",
      "metadata": {
        "id": "z5H8nj2IXeUe"
      },
      "source": [
        "task_count = 5\n",
        "\n",
        "def increase_task_count():\n",
        "  global task_count \n",
        "  task_count += 1\n",
        "\n",
        "increase_task_count()\n",
        "\n",
        "# Do not modify below the code below this line\n",
        "assert task_count == 6\n"
      ],
      "execution_count": 72,
      "outputs": []
    },
    {
      "cell_type": "markdown",
      "metadata": {
        "id": "ohrCHdZdZBAW"
      },
      "source": [
        "# Problem 5\n",
        "\n",
        "In this problem, we have a function that performs a division operation, but it crashes when dividing by zero.\n",
        "\n",
        "1. Modify the following function to catch and handle the ZeroDivisionError"
      ]
    },
    {
      "cell_type": "code",
      "metadata": {
        "id": "C82xAvPaZAhq"
      },
      "source": [
        "def divide(divisor, dividend):\n",
        "  if divisor == 0:\n",
        "    return \"Divison by zero not allowed\"\n",
        "  return dividend / divisor \n",
        "\n",
        "# Do not modify below the code below this line\n",
        "assert divide(0, 10) == \"Divison by zero not allowed\"\n"
      ],
      "execution_count": 76,
      "outputs": []
    },
    {
      "cell_type": "markdown",
      "metadata": {
        "id": "pBF69dkMahl6"
      },
      "source": [
        "# Problem 6\n",
        "\n",
        "In this problem, someone has written some code using the NumPy library, but has not imported the library correctly.\n",
        "\n",
        "1. Import the NumPy library to be able to run the code.\n"
      ]
    },
    {
      "cell_type": "code",
      "metadata": {
        "id": "tCRYhs3Oao2D"
      },
      "source": [
        "import numpy as np\n",
        "\n",
        "arrange = np.arange(15).reshape(3, 5)\n",
        "\n",
        "# Do not modify below the code below this line\n",
        "assert np.allclose(arrange, [[0,1,2,3,4],[5,6,7,8,9],[10,11,12,13,14]]) ==  True\n"
      ],
      "execution_count": 79,
      "outputs": []
    }
  ]
}